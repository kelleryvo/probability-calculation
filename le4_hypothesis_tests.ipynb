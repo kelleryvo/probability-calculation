{
 "cells": [
  {
   "cell_type": "markdown",
   "metadata": {},
   "source": [
    "# Imports and Functions"
   ]
  },
  {
   "cell_type": "code",
   "execution_count": null,
   "metadata": {
    "pycharm": {
     "name": "#%%\n"
    }
   },
   "outputs": [],
   "source": [
    "import scipy.stats as st\n",
    "import seaborn as sns\n",
    "import matplotlib.pyplot as plt\n",
    "import numpy as np\n",
    "import pandas as pd\n",
    "import math"
   ]
  },
  {
   "cell_type": "code",
   "execution_count": null,
   "metadata": {
    "pycharm": {
     "name": "#%%\n"
    }
   },
   "outputs": [],
   "source": [
    "def null_hypothesis_accepted(Z, z):\n",
    "    if Z > z: # reject H0\n",
    "        print('H0 rejected', 'Z =', Z, '/ ', 'z =', z)\n",
    "        return False\n",
    "    else:\n",
    "        print('H0 accepted', 'Z =', Z, '/ ', 'z =', z)\n",
    "        return True\n",
    "\n",
    "def Z_score(mu0, sigma0, n, x_bar):\n",
    "    return abs((x_bar - mu0) / (sigma0 / np.sqrt(n - 1)))"
   ]
  },
  {
   "cell_type": "markdown",
   "metadata": {},
   "source": [
    "# Serie 11\n",
    "\n",
    "## Aufgabe 5\n",
    "\n",
    "TODO: change to students-t"
   ]
  },
  {
   "cell_type": "code",
   "execution_count": null,
   "metadata": {
    "pycharm": {
     "name": "#%%\n"
    }
   },
   "outputs": [],
   "source": [
    "# H0: mu0 = 500g\n",
    "# H1: mu0 != 500g\n",
    "data = [495, 502, 505, 498, 490, 500]\n",
    "x_bar = np.mean(data)\n",
    "x_bar"
   ]
  },
  {
   "cell_type": "code",
   "execution_count": null,
   "metadata": {
    "pycharm": {
     "name": "#%%\n"
    }
   },
   "outputs": [],
   "source": [
    "# standard_error can't be calculated, population std missing???\n",
    "st.norm.ppf(0.95, loc=500, scale=np.std(data))"
   ]
  },
  {
   "cell_type": "code",
   "execution_count": null,
   "metadata": {
    "pycharm": {
     "name": "#%%\n"
    }
   },
   "outputs": [],
   "source": [
    "Z = Z_score(500, np.std(data), len(data), np.mean(data))\n",
    "Z"
   ]
  },
  {
   "cell_type": "code",
   "execution_count": null,
   "metadata": {
    "pycharm": {
     "name": "#%%\n"
    }
   },
   "outputs": [],
   "source": [
    "a = 0.05\n",
    "prop = 1 - (2 * a) # two-sided test\n",
    "z = st.norm.ppf(prop)\n",
    "z"
   ]
  },
  {
   "cell_type": "code",
   "execution_count": null,
   "metadata": {
    "pycharm": {
     "name": "#%%\n"
    }
   },
   "outputs": [],
   "source": [
    "null_hypothesis_accepted(Z, z)"
   ]
  },
  {
   "cell_type": "markdown",
   "metadata": {},
   "source": [
    "# Serie 14\n",
    "\n",
    "## Aufgabe 79"
   ]
  },
  {
   "cell_type": "code",
   "execution_count": null,
   "metadata": {
    "pycharm": {
     "name": "#%%\n"
    }
   },
   "outputs": [],
   "source": [
    "drive_shaft_1 = st.norm.rvs(loc=280, scale=20, size=1000)\n",
    "drive_shaft_2 = st.norm.rvs(loc=292, scale=25, size=1000)\n",
    "sns.displot([drive_shaft_1, drive_shaft_2])"
   ]
  },
  {
   "cell_type": "code",
   "execution_count": null,
   "metadata": {
    "pycharm": {
     "name": "#%%\n"
    }
   },
   "outputs": [],
   "source": [
    "# Stichprobe mit n = 25\n",
    "N = 25\n",
    "\n",
    "drive_shaft_sample_1 = st.norm.rvs(loc=280, scale=math.sqrt(20), size=25)\n",
    "drive_shaft_sample_2 = st.norm.rvs(loc=292, scale=math.sqrt(25), size=25)"
   ]
  },
  {
   "cell_type": "code",
   "execution_count": null,
   "metadata": {
    "pycharm": {
     "name": "#%%\n"
    }
   },
   "outputs": [],
   "source": [
    "pd.DataFrame(drive_shaft_sample_1).describe()"
   ]
  },
  {
   "cell_type": "markdown",
   "metadata": {},
   "source": [
    "pd.DataFrame(drive_shaft_sample_2).describe()"
   ]
  },
  {
   "cell_type": "code",
   "execution_count": null,
   "metadata": {
    "pycharm": {
     "name": "#%%\n"
    }
   },
   "outputs": [],
   "source": [
    "mu_s1 = np.mean(drive_shaft_sample_1)\n",
    "print(mu_s1)\n",
    "mu_s2 = np.mean(drive_shaft_sample_2)\n",
    "print(mu_s2)"
   ]
  },
  {
   "cell_type": "code",
   "execution_count": null,
   "metadata": {
    "pycharm": {
     "name": "#%%\n"
    }
   },
   "outputs": [],
   "source": [
    "st.norm.pdf(0)"
   ]
  },
  {
   "cell_type": "markdown",
   "metadata": {},
   "source": [
    "H0: mu = 280 MPa\n",
    "H1: mu != 280 MPa\n",
    "\n",
    "### a) Bestimmmen sie die Grenze c bei gegebener Irrtumswahrscheinlichkeit α = 0.05.\n",
    "Wie groß ist in diesem Fall die Irrtumswahrscheinlichkeit 2. Art, β?\n",
    "\n",
    "PPF:\n",
    "Density functions return the probability of an observation in the distribution. Recall the definitions of the PDF and CDF as follows:\n",
    "\n",
    "Probability Density Function (PDF): Returns the probability for an observation having a specific value from the distribution.\n",
    "Cumulative Density Function (CDF): Returns the probability for an observation equal to or lesser than a specific value from the distribution.\n",
    "In order to calculate a critical value, we require a function that, given a probability (or significance), will return the observation value from the distribution.\n",
    "\n",
    "Specifically, we require the inverse of the cumulative density function, where given a probability, we are **given the observation value that is less than or equal to the probability**.\n",
    "--> This is called the percent point function (PPF), or more generally the quantile function."
   ]
  },
  {
   "cell_type": "code",
   "execution_count": 216,
   "metadata": {
    "pycharm": {
     "name": "#%%\n"
    }
   },
   "outputs": [
    {
     "name": "stdout",
     "output_type": "stream",
     "text": [
      "286.5794145078059 MPa\n"
     ]
    }
   ],
   "source": [
    "# critical value c so that there is only a 5% chance of rejecting H0 even if it is true\n",
    "critical_value_c = st.norm.ppf(0.95, loc=280, scale=20/np.sqrt(25)) # based on one-sided test and alpha of 0.05\n",
    "print(critical_value_c, 'MPa')"
   ]
  },
  {
   "cell_type": "code",
   "execution_count": 217,
   "metadata": {
    "pycharm": {
     "name": "#%%\n"
    }
   },
   "outputs": [
    {
     "name": "stdout",
     "output_type": "stream",
     "text": [
      "13.92 %\n"
     ]
    }
   ],
   "source": [
    "# Error Type 2 - how high is probability (cdf) that we falsely accept H0 and the part is actually from the other distribution\n",
    "error_type_2_prob = st.norm.cdf(critical_value_c, loc=292, scale=25/np.sqrt(25))\n",
    "print((error_type_2_prob * 100).round(2), '%')"
   ]
  },
  {
   "cell_type": "markdown",
   "metadata": {},
   "source": [
    "### b) die Grenze c bei gegebener Irrtumswahrscheinlichkeit β = 0.2.\n",
    "Wie groß ist in diesem Fall die Irrtumswahrscheinlichkeit 1. Art, α?"
   ]
  },
  {
   "cell_type": "code",
   "execution_count": 218,
   "metadata": {
    "pycharm": {
     "name": "#%%\n"
    }
   },
   "outputs": [
    {
     "name": "stdout",
     "output_type": "stream",
     "text": [
      "287.79189383213543 MPa\n"
     ]
    }
   ],
   "source": [
    "# choose critical value so that probability of β error becomes 0.2\n",
    "critical_value_c = st.norm.ppf(0.2, loc=292, scale=25/np.sqrt(25))\n",
    "print(critical_value_c, 'MPa')"
   ]
  },
  {
   "cell_type": "code",
   "execution_count": 219,
   "metadata": {
    "pycharm": {
     "name": "#%%\n"
    }
   },
   "outputs": [
    {
     "name": "stdout",
     "output_type": "stream",
     "text": [
      "2.57 %\n"
     ]
    }
   ],
   "source": [
    "# calculate α when critical value based on β error 0.2\n",
    "error_type_1_prob = 1 - st.norm.cdf(critical_value_c, loc=280, scale=20/np.sqrt(25))\n",
    "print((error_type_1_prob * 100).round(2), '%')"
   ]
  },
  {
   "cell_type": "markdown",
   "metadata": {},
   "source": [
    "#### c) die Grenze c, falls beide Irrtumswahrscheinlichkeiten gleich groß sein sollen, d.h. α = β?"
   ]
  },
  {
   "cell_type": "code",
   "execution_count": 221,
   "metadata": {
    "pycharm": {
     "name": "#%%\n"
    }
   },
   "outputs": [],
   "source": [
    "critical_value_list = np.arange(280, 290, 0.001)\n",
    "\n",
    "# c_critical_value so that\n",
    "def prob_type1_error(c):\n",
    "    return 1 - st.norm.cdf(c, loc=280, scale=20/np.sqrt(25))\n",
    "\n",
    "# equals\n",
    "def prob_type2_error(c):\n",
    "    return st.norm.cdf(c, loc=292, scale=25/np.sqrt(25))\n",
    "\n",
    "prob_type1_error_list = [prob_type1_error(c) for c in critical_value_list]\n",
    "prob_type2_error_list = [prob_type2_error(c) for c in critical_value_list]"
   ]
  },
  {
   "cell_type": "code",
   "execution_count": 222,
   "metadata": {
    "pycharm": {
     "name": "#%%\n"
    }
   },
   "outputs": [
    {
     "data": {
      "application/vnd.jupyter.widget-view+json": {
       "model_id": "02715388d02a497daf38148780cf8def",
       "version_major": 2,
       "version_minor": 0
      },
      "image/png": "[encoded data removed]",
      "text/html": [
       "\n",
       "            <div style=\"display: inline-block;\">\n",
       "                <div class=\"jupyter-widgets widget-label\" style=\"text-align: center;\">\n",
       "                    Figure\n",
       "                </div>\n",
       "                <img src='data:image/png;base64,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' width=640.0/>\n",
       "            </div>\n",
       "        "
      ],
      "text/plain": [
       "Canvas(toolbar=Toolbar(toolitems=[('Home', 'Reset original view', 'home', 'home'), ('Back', 'Back to previous …"
      ]
     },
     "metadata": {},
     "output_type": "display_data"
    }
   ],
   "source": [
    "%matplotlib widget\n",
    "plt.plot(critical_value_list, prob_type1_error_list, label = 'α')\n",
    "plt.plot(critical_value_list, prob_type2_error_list, label = 'β')\n",
    "plt.legend()\n",
    "plt.show()"
   ]
  },
  {
   "cell_type": "markdown",
   "metadata": {},
   "source": [
    "**Result**: Alpha and Beta errors are equal around when c = 285.33 MPa"
   ]
  },
  {
   "cell_type": "markdown",
   "metadata": {},
   "source": [
    "### d) Wie groß müsste man den Stichprobenumfang n wählen, damit beide Irrtumswahrscheinlichkeiten gleich groß sind und höchstens gleich 0.02 sind?"
   ]
  },
  {
   "cell_type": "code",
   "execution_count": null,
   "metadata": {
    "pycharm": {
     "name": "#%%\n"
    }
   },
   "outputs": [],
   "source": [
    "# 4x sample size for 2x reduction in probability of error\n",
    "\n",
    "# wo muss n = 25 berücksichtigt werden???"
   ]
  },
  {
   "cell_type": "markdown",
   "metadata": {},
   "source": [
    "## Aufgabe 80"
   ]
  },
  {
   "cell_type": "code",
   "execution_count": 225,
   "metadata": {
    "pycharm": {
     "name": "#%%\n"
    }
   },
   "outputs": [],
   "source": [
    "sample = [33, 31, 30, 29, 24, 27, 28, 31, 25, 23]"
   ]
  },
  {
   "cell_type": "code",
   "execution_count": 226,
   "metadata": {
    "pycharm": {
     "name": "#%%\n"
    }
   },
   "outputs": [
    {
     "data": {
      "text/html": [
       "<div>\n",
       "<style scoped>\n",
       "    .dataframe tbody tr th:only-of-type {\n",
       "        vertical-align: middle;\n",
       "    }\n",
       "\n",
       "    .dataframe tbody tr th {\n",
       "        vertical-align: top;\n",
       "    }\n",
       "\n",
       "    .dataframe thead th {\n",
       "        text-align: right;\n",
       "    }\n",
       "</style>\n",
       "<table border=\"1\" class=\"dataframe\">\n",
       "  <thead>\n",
       "    <tr style=\"text-align: right;\">\n",
       "      <th></th>\n",
       "      <th>0</th>\n",
       "    </tr>\n",
       "  </thead>\n",
       "  <tbody>\n",
       "    <tr>\n",
       "      <th>count</th>\n",
       "      <td>10.000000</td>\n",
       "    </tr>\n",
       "    <tr>\n",
       "      <th>mean</th>\n",
       "      <td>28.100000</td>\n",
       "    </tr>\n",
       "    <tr>\n",
       "      <th>std</th>\n",
       "      <td>3.314949</td>\n",
       "    </tr>\n",
       "    <tr>\n",
       "      <th>min</th>\n",
       "      <td>23.000000</td>\n",
       "    </tr>\n",
       "    <tr>\n",
       "      <th>25%</th>\n",
       "      <td>25.500000</td>\n",
       "    </tr>\n",
       "    <tr>\n",
       "      <th>50%</th>\n",
       "      <td>28.500000</td>\n",
       "    </tr>\n",
       "    <tr>\n",
       "      <th>75%</th>\n",
       "      <td>30.750000</td>\n",
       "    </tr>\n",
       "    <tr>\n",
       "      <th>max</th>\n",
       "      <td>33.000000</td>\n",
       "    </tr>\n",
       "  </tbody>\n",
       "</table>\n",
       "</div>"
      ],
      "text/plain": [
       "               0\n",
       "count  10.000000\n",
       "mean   28.100000\n",
       "std     3.314949\n",
       "min    23.000000\n",
       "25%    25.500000\n",
       "50%    28.500000\n",
       "75%    30.750000\n",
       "max    33.000000"
      ]
     },
     "execution_count": 226,
     "metadata": {},
     "output_type": "execute_result"
    }
   ],
   "source": [
    "pd.DataFrame(sample).describe()"
   ]
  },
  {
   "cell_type": "code",
   "execution_count": 227,
   "metadata": {
    "pycharm": {
     "name": "#%%\n"
    }
   },
   "outputs": [
    {
     "data": {
      "text/plain": [
       "1.7392527130926108"
      ]
     },
     "execution_count": 227,
     "metadata": {},
     "output_type": "execute_result"
    }
   ],
   "source": [
    "Z = (np.mean(sample) - 27) / (2 / math.sqrt(10)) # Z score\n",
    "Z"
   ]
  },
  {
   "cell_type": "code",
   "execution_count": 228,
   "metadata": {
    "pycharm": {
     "name": "#%%\n"
    }
   },
   "outputs": [
    {
     "data": {
      "text/plain": [
       "1.96"
      ]
     },
     "execution_count": 228,
     "metadata": {},
     "output_type": "execute_result"
    }
   ],
   "source": [
    "z = 1.96 # z critical value (0.975 in z-table based on a = 0.05 and two-sided testing)\n",
    "z"
   ]
  },
  {
   "cell_type": "code",
   "execution_count": 229,
   "metadata": {
    "pycharm": {
     "name": "#%%\n"
    }
   },
   "outputs": [
    {
     "data": {
      "text/plain": [
       "False"
      ]
     },
     "execution_count": 229,
     "metadata": {},
     "output_type": "execute_result"
    }
   ],
   "source": [
    "# With Z-Test:\n",
    "# if Z score > z critical value: Reject H0\n",
    "Z > z"
   ]
  },
  {
   "cell_type": "markdown",
   "metadata": {},
   "source": [
    "Mit einem 5% Signifikanzniveau gibt es statistische Evidenz dafür, dass die durchschnittliche Kerbschlagsarbeit 27 J ist. **H0 wird akzeptiert**."
   ]
  },
  {
   "cell_type": "code",
   "execution_count": 230,
   "metadata": {
    "pycharm": {
     "name": "#%%\n"
    }
   },
   "outputs": [
    {
     "data": {
      "text/plain": [
       "2.62"
      ]
     },
     "execution_count": 230,
     "metadata": {},
     "output_type": "execute_result"
    }
   ],
   "source": [
    "# With T-Test:\n",
    "t = 2.62 # t critical value (t-table based on a = 0.05 two tailed with dof 10 - 1 = 9)\n",
    "t"
   ]
  },
  {
   "cell_type": "code",
   "execution_count": 231,
   "metadata": {
    "pycharm": {
     "name": "#%%\n"
    }
   },
   "outputs": [
    {
     "data": {
      "text/plain": [
       "False"
      ]
     },
     "execution_count": 231,
     "metadata": {},
     "output_type": "execute_result"
    }
   ],
   "source": [
    "Z > t\n",
    "# lösung in buch: 1.74"
   ]
  },
  {
   "cell_type": "markdown",
   "metadata": {},
   "source": [
    "Hypothese H0 wird auch mit dem T-Test (# of samples < 30) akzeptiert"
   ]
  },
  {
   "cell_type": "markdown",
   "metadata": {},
   "source": [
    "## Aufgabe 81"
   ]
  },
  {
   "cell_type": "code",
   "execution_count": null,
   "metadata": {
    "pycharm": {
     "name": "#%%\n"
    }
   },
   "outputs": [],
   "source": [
    "# population: mü = 100 kg and std = 1.5 kg\n",
    "# sample with 225 bags: x_bar = 99.75 kg\n",
    "# H0: mü0 = 100 kg\n",
    "# H1: mü0 != 100 kg\n",
    "# alpha = 0.02"
   ]
  },
  {
   "cell_type": "code",
   "execution_count": null,
   "metadata": {
    "pycharm": {
     "name": "#%%\n"
    }
   },
   "outputs": [],
   "source": [
    "# calc the standardized statistic value\n",
    "standard_error = 1.5 / np.sqrt(225 - 1) # for sample, so dof = 1\n",
    "Z = abs((99.75 - 100) / standard_error)\n",
    "print('Z-score:', Z)"
   ]
  },
  {
   "cell_type": "code",
   "execution_count": null,
   "metadata": {
    "pycharm": {
     "name": "#%%\n"
    }
   },
   "outputs": [],
   "source": [
    "a = 0.02\n",
    "prop = 1 - (a * 2)\n",
    "z = st.norm.ppf(prop) # two-sided test\n",
    "print('z-value [critical value]:', z)"
   ]
  },
  {
   "cell_type": "code",
   "execution_count": null,
   "metadata": {
    "pycharm": {
     "name": "#%%\n"
    }
   },
   "outputs": [],
   "source": [
    "# check test result\n",
    "if Z > z: # reject H0\n",
    "    print('H0 rejected', 'Z =', Z, '/ ', 'z =', z)\n",
    "else:\n",
    "    print('H0 accepted', 'Z =', Z, '/ ', 'z =', z)"
   ]
  },
  {
   "cell_type": "markdown",
   "metadata": {},
   "source": [
    "at 2% significance level statistical evidence that mean weight is NOT 100 kg."
   ]
  },
  {
   "cell_type": "markdown",
   "metadata": {},
   "source": [
    "## Aufgabe 82"
   ]
  },
  {
   "cell_type": "code",
   "execution_count": null,
   "metadata": {
    "pycharm": {
     "name": "#%%\n"
    }
   },
   "outputs": [],
   "source": [
    "# H0: μ0 >= 12000 km\n",
    "# H1: μ0 < 12000 km\n",
    "# σ0 = 850\n",
    "# Sample: n = 100 α = 0.03"
   ]
  },
  {
   "cell_type": "code",
   "execution_count": null,
   "metadata": {
    "pycharm": {
     "name": "#%%\n"
    }
   },
   "outputs": [],
   "source": [
    "standard_error = 850 / np.sqrt(100 - 1) # of sample with dof = 1"
   ]
  },
  {
   "cell_type": "code",
   "execution_count": null,
   "metadata": {
    "pycharm": {
     "name": "#%%\n"
    }
   },
   "outputs": [],
   "source": [
    "# using standard error\n",
    "st.norm.ppf(0.03, loc=12000, scale=standard_error)"
   ]
  },
  {
   "cell_type": "markdown",
   "metadata": {},
   "source": [
    "Der Erwartungswert der Laufleistung muss den Wert von 11'839 km unterschreiten!"
   ]
  },
  {
   "cell_type": "code",
   "execution_count": null,
   "metadata": {
    "pycharm": {
     "name": "#%%\n"
    }
   },
   "outputs": [],
   "source": [
    "# what's the meaning of this in that context???\n",
    "# using population standard deviation\n",
    "st.norm.ppf(0.03, loc=12000, scale=850)"
   ]
  },
  {
   "cell_type": "markdown",
   "metadata": {},
   "source": [
    "## Aufgabe 83"
   ]
  },
  {
   "cell_type": "code",
   "execution_count": null,
   "metadata": {
    "pycharm": {
     "name": "#%%\n"
    }
   },
   "outputs": [],
   "source": [
    "# Exhaust max. 250 mg NOx / km\n",
    "# σ0 = 34 mg\n",
    "# Sample: n = 100 and x_bar = 255 mg / km\n",
    "\n",
    "# H0: μ0 <= 250 mg\n",
    "# H1: μ0 > 250 mg"
   ]
  },
  {
   "cell_type": "markdown",
   "metadata": {},
   "source": [
    "#### a) Kann die Vermutung der Behörde mit einer Irrtumswahrscheinlichkeit von α = 0.05 bestätigt werden?"
   ]
  },
  {
   "cell_type": "code",
   "execution_count": null,
   "metadata": {
    "pycharm": {
     "name": "#%%\n"
    }
   },
   "outputs": [],
   "source": [
    "standard_error = 34 / np.sqrt(10 - 1)\n",
    "standard_error"
   ]
  },
  {
   "cell_type": "code",
   "execution_count": null,
   "metadata": {
    "pycharm": {
     "name": "#%%\n"
    }
   },
   "outputs": [],
   "source": [
    "Z = (255 - 250) / standard_error # standardized Z-score\n",
    "Z"
   ]
  },
  {
   "cell_type": "code",
   "execution_count": null,
   "metadata": {
    "pycharm": {
     "name": "#%%\n"
    }
   },
   "outputs": [],
   "source": [
    "a = 0.05\n",
    "prop = 1 - 0.05 # assuming one-sided test to the right\n",
    "z = st.norm.ppf(prop)\n",
    "z"
   ]
  },
  {
   "cell_type": "code",
   "execution_count": null,
   "metadata": {
    "pycharm": {
     "name": "#%%\n"
    }
   },
   "outputs": [],
   "source": [
    "# Check result\n",
    "null_hypothesis_accepted(Z, z)"
   ]
  },
  {
   "cell_type": "markdown",
   "metadata": {},
   "source": [
    "Null hypothesis accepted - no statistical evidence at alpha of 0.05 that exhaust too high"
   ]
  },
  {
   "cell_type": "markdown",
   "metadata": {},
   "source": [
    "#### b) Wie viele Fahrzeuge müssten getestet werden, um bei gleichbleibendem Mittelwert und Standardabweichung die Vermutung der Behörde mit einer Irrtumswahrscheinlichkeit von α = 0.05 bestätigen zu können?\n",
    "\n",
    "Z müsste grösser als z (1.6448536269514722) werden"
   ]
  },
  {
   "cell_type": "code",
   "execution_count": null,
   "metadata": {
    "pycharm": {
     "name": "#%%\n"
    }
   },
   "outputs": [],
   "source": [
    "sample_sizes = np.arange(10, 1000, 1)\n",
    "\n",
    "Z_scores = [Z_score(mu0=250, sigma0=34, n=size, x_bar=255) for size in sample_sizes]\n",
    "\n",
    "plt.clf()\n",
    "plt.plot(Z_scores, sample_sizes)\n",
    "plt.xlabel('Z score')\n",
    "plt.ylabel('sample size')\n",
    "plt.grid(alpha=.4,linestyle='--')\n",
    "plt.show()"
   ]
  },
  {
   "cell_type": "code",
   "execution_count": null,
   "metadata": {
    "pycharm": {
     "name": "#%%\n"
    }
   },
   "outputs": [],
   "source": [
    "df = pd.DataFrame(Z_scores)\n",
    "first_index_Z_bigger_than_z = df.index[df[0] > 1.6448536269514722].tolist()[0]\n",
    "print('sample size for H0 to get rejected:', sample_sizes[first_index_Z_bigger_than_z])"
   ]
  },
  {
   "cell_type": "markdown",
   "metadata": {},
   "source": [
    "## other random stuff"
   ]
  },
  {
   "cell_type": "code",
   "execution_count": null,
   "metadata": {
    "pycharm": {
     "name": "#%%\n"
    }
   },
   "outputs": [],
   "source": [
    "c = st.norm.interval(0.90, loc=280, scale=np.sqrt(20)) # if this would be two-sided..."
   ]
  },
  {
   "cell_type": "code",
   "execution_count": null,
   "metadata": {
    "pycharm": {
     "name": "#%%\n"
    }
   },
   "outputs": [],
   "source": [
    "Z_score = ( - 280)\n",
    "st.norm.cdf(0.9999)\n",
    "\n",
    "z_value = 1 - 0.05\n",
    "print(z_value)"
   ]
  },
  {
   "cell_type": "code",
   "execution_count": null,
   "metadata": {
    "pycharm": {
     "name": "#%%\n"
    }
   },
   "outputs": [],
   "source": [
    "Z_score = (mu_s1 - mu_s2) / (np.std(drive_shaft_sample_1) / math.sqrt(N))\n",
    "Z_score"
   ]
  },
  {
   "cell_type": "code",
   "execution_count": null,
   "metadata": {
    "pycharm": {
     "name": "#%%\n"
    }
   },
   "outputs": [],
   "source": [
    "# drive shafts 1\n",
    "st.norm.interval(0.05, loc=280, scale=math.sqrt(20)/math.sqrt(N))"
   ]
  },
  {
   "cell_type": "code",
   "execution_count": null,
   "metadata": {
    "pycharm": {
     "name": "#%%\n"
    }
   },
   "outputs": [],
   "source": [
    "# drive shafts 2\n",
    "st.norm.interval(0.05, loc=292, scale=math.sqrt(25)/math.sqrt(N))"
   ]
  }
 ],
 "metadata": {
  "kernelspec": {
   "display_name": "Python 3 (ipykernel)",
   "language": "python",
   "name": "python3"
  },
  "language_info": {
   "codemirror_mode": {
    "name": "ipython",
    "version": 3
   },
   "file_extension": ".py",
   "mimetype": "text/x-python",
   "name": "python",
   "nbconvert_exporter": "python",
   "pygments_lexer": "ipython3",
   "version": "3.8.12"
  }
 },
 "nbformat": 4,
 "nbformat_minor": 1
}