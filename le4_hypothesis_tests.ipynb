{
 "cells": [
  {
   "cell_type": "markdown",
   "source": [
    "# Imports and Functions"
   ],
   "metadata": {
    "collapsed": false
   }
  },
  {
   "cell_type": "code",
   "execution_count": null,
   "outputs": [],
   "source": [
    "import scipy.stats as st\n",
    "import seaborn as sns\n",
    "import matplotlib.pyplot as plt\n",
    "import numpy as np\n",
    "import pandas as pd\n",
    "import math"
   ],
   "metadata": {
    "collapsed": false,
    "pycharm": {
     "name": "#%%\n"
    }
   }
  },
  {
   "cell_type": "code",
   "execution_count": null,
   "outputs": [],
   "source": [
    "def null_hypothesis_accepted(Z, z):\n",
    "    if Z > z: # reject H0\n",
    "        print('H0 rejected', 'Z =', Z, '/ ', 'z =', z)\n",
    "        return False\n",
    "    else:\n",
    "        print('H0 accepted', 'Z =', Z, '/ ', 'z =', z)\n",
    "        return True\n",
    "\n",
    "def Z_score(mu0, sigma0, n, x_bar):\n",
    "    return abs((x_bar - mu0) / (sigma0 / np.sqrt(n - 1)))"
   ],
   "metadata": {
    "collapsed": false,
    "pycharm": {
     "name": "#%%\n"
    }
   }
  },
  {
   "cell_type": "markdown",
   "source": [
    "# Serie 11\n",
    "\n",
    "## Aufgabe 5\n",
    "\n",
    "TODO: change to students-t"
   ],
   "metadata": {
    "collapsed": false
   }
  },
  {
   "cell_type": "code",
   "execution_count": null,
   "outputs": [],
   "source": [
    "# H0: mu0 = 500g\n",
    "# H1: mu0 != 500g\n",
    "data = [495, 502, 505, 498, 490, 500]\n",
    "x_bar = np.mean(data)\n",
    "x_bar"
   ],
   "metadata": {
    "collapsed": false,
    "pycharm": {
     "name": "#%%\n"
    }
   }
  },
  {
   "cell_type": "code",
   "execution_count": null,
   "outputs": [],
   "source": [
    "# standard_error can't be calculated, population std missing???\n",
    "st.norm.ppf(0.95, loc=500, scale=np.std(data))"
   ],
   "metadata": {
    "collapsed": false,
    "pycharm": {
     "name": "#%%\n"
    }
   }
  },
  {
   "cell_type": "code",
   "execution_count": null,
   "outputs": [],
   "source": [
    "Z = Z_score(500, np.std(data), len(data), np.mean(data))\n",
    "Z"
   ],
   "metadata": {
    "collapsed": false,
    "pycharm": {
     "name": "#%%\n"
    }
   }
  },
  {
   "cell_type": "code",
   "execution_count": null,
   "outputs": [],
   "source": [
    "a = 0.05\n",
    "prop = 1 - (2 * a) # two-sided test\n",
    "z = st.norm.ppf(prop)\n",
    "z"
   ],
   "metadata": {
    "collapsed": false,
    "pycharm": {
     "name": "#%%\n"
    }
   }
  },
  {
   "cell_type": "code",
   "execution_count": null,
   "outputs": [],
   "source": [
    "null_hypothesis_accepted(Z, z)"
   ],
   "metadata": {
    "collapsed": false,
    "pycharm": {
     "name": "#%%\n"
    }
   }
  },
  {
   "cell_type": "markdown",
   "source": [
    "# Serie 14\n",
    "\n",
    "## Aufgabe 79"
   ],
   "metadata": {
    "collapsed": false
   }
  },
  {
   "cell_type": "code",
   "execution_count": null,
   "outputs": [],
   "source": [
    "drive_shaft_1 = st.norm.rvs(loc=280, scale=20, size=1000)\n",
    "drive_shaft_2 = st.norm.rvs(loc=292, scale=25, size=1000)\n",
    "sns.displot([drive_shaft_1, drive_shaft_2])"
   ],
   "metadata": {
    "collapsed": false,
    "pycharm": {
     "name": "#%%\n"
    }
   }
  },
  {
   "cell_type": "code",
   "execution_count": null,
   "outputs": [],
   "source": [
    "# Stichprobe mit n = 25\n",
    "N = 25\n",
    "\n",
    "drive_shaft_sample_1 = st.norm.rvs(loc=280, scale=math.sqrt(20), size=25)\n",
    "drive_shaft_sample_2 = st.norm.rvs(loc=292, scale=math.sqrt(25), size=25)"
   ],
   "metadata": {
    "collapsed": false,
    "pycharm": {
     "name": "#%%\n"
    }
   }
  },
  {
   "cell_type": "code",
   "execution_count": null,
   "outputs": [],
   "source": [
    "pd.DataFrame(drive_shaft_sample_1).describe()"
   ],
   "metadata": {
    "collapsed": false,
    "pycharm": {
     "name": "#%%\n"
    }
   }
  },
  {
   "cell_type": "markdown",
   "source": [
    "pd.DataFrame(drive_shaft_sample_2).describe()"
   ],
   "metadata": {
    "collapsed": false
   }
  },
  {
   "cell_type": "code",
   "execution_count": null,
   "outputs": [],
   "source": [
    "mu_s1 = np.mean(drive_shaft_sample_1)\n",
    "print(mu_s1)\n",
    "mu_s2 = np.mean(drive_shaft_sample_2)\n",
    "print(mu_s2)"
   ],
   "metadata": {
    "collapsed": false,
    "pycharm": {
     "name": "#%%\n"
    }
   }
  },
  {
   "cell_type": "code",
   "execution_count": null,
   "outputs": [],
   "source": [
    "st.norm.pdf(0)"
   ],
   "metadata": {
    "collapsed": false,
    "pycharm": {
     "name": "#%%\n"
    }
   }
  },
  {
   "cell_type": "markdown",
   "source": [
    "H0: mu = 280 MPa\n",
    "H1: mu != 280 MPa\n",
    "\n",
    "### a) Bestimmmen sie die Grenze c bei gegebener Irrtumswahrscheinlichkeit α = 0.05.\n",
    "Wie groß ist in diesem Fall die Irrtumswahrscheinlichkeit 2. Art, β?\n",
    "\n",
    "PPF:\n",
    "Density functions return the probability of an observation in the distribution. Recall the definitions of the PDF and CDF as follows:\n",
    "\n",
    "Probability Density Function (PDF): Returns the probability for an observation having a specific value from the distribution.\n",
    "Cumulative Density Function (CDF): Returns the probability for an observation equal to or lesser than a specific value from the distribution.\n",
    "In order to calculate a critical value, we require a function that, given a probability (or significance), will return the observation value from the distribution.\n",
    "\n",
    "Specifically, we require the inverse of the cumulative density function, where given a probability, we are **given the observation value that is less than or equal to the probability**.\n",
    "--> This is called the percent point function (PPF), or more generally the quantile function."
   ],
   "metadata": {
    "collapsed": false
   }
  },
  {
   "cell_type": "code",
   "execution_count": null,
   "outputs": [],
   "source": [
    "# critical value c so that there is only a 5% chance of rejecting H0 even if it is true\n",
    "critical_value_c = st.norm.ppf(0.95, loc=280, scale=np.sqrt(20)) # based on one-sided test and alpha of 0.05\n",
    "print(critical_value_c, 'MPa')"
   ],
   "metadata": {
    "collapsed": false,
    "pycharm": {
     "name": "#%%\n"
    }
   }
  },
  {
   "cell_type": "code",
   "execution_count": null,
   "outputs": [],
   "source": [
    "# Error Type 2 - how high is probability (cdf) that we falsely accept H0 and the part is actually from the other distribution\n",
    "error_type_2_prob = st.norm.cdf(critical_value_c, loc=292, scale=np.sqrt(25))\n",
    "print((error_type_2_prob * 100).round(2), '%')"
   ],
   "metadata": {
    "collapsed": false,
    "pycharm": {
     "name": "#%%\n"
    }
   }
  },
  {
   "cell_type": "markdown",
   "source": [
    "### b) die Grenze c bei gegebener Irrtumswahrscheinlichkeit β = 0.2.\n",
    "Wie groß ist in diesem Fall die Irrtumswahrscheinlichkeit 1. Art, α?"
   ],
   "metadata": {
    "collapsed": false
   }
  },
  {
   "cell_type": "code",
   "execution_count": null,
   "outputs": [],
   "source": [
    "# choose critical value so that probability of β error becomes 0.2\n",
    "critical_value_c = st.norm.ppf(0.2, loc=292, scale=np.sqrt(25))\n",
    "print(critical_value_c, 'MPa')"
   ],
   "metadata": {
    "collapsed": false,
    "pycharm": {
     "name": "#%%\n"
    }
   }
  },
  {
   "cell_type": "code",
   "execution_count": null,
   "outputs": [],
   "source": [
    "# calculate α when critical value based on β error 0.2\n",
    "error_type_1_prob = 1 - st.norm.cdf(critical_value_c, loc=280, scale=np.sqrt(20))\n",
    "print((error_type_1_prob * 100).round(2), '%')"
   ],
   "metadata": {
    "collapsed": false,
    "pycharm": {
     "name": "#%%\n"
    }
   }
  },
  {
   "cell_type": "markdown",
   "source": [
    "#### c) die Grenze c, falls beide Irrtumswahrscheinlichkeiten gleich groß sein sollen, d.h. α = β?"
   ],
   "metadata": {
    "collapsed": false
   }
  },
  {
   "cell_type": "code",
   "execution_count": null,
   "outputs": [],
   "source": [
    "critical_value_list = np.arange(280, 290, 0.001)\n",
    "\n",
    "# c_critical_value so that\n",
    "def prob_type1_error(c):\n",
    "    return 1 - st.norm.cdf(c, loc=280, scale=np.sqrt(20))\n",
    "\n",
    "# equals\n",
    "def prob_type2_error(c):\n",
    "    return st.norm.cdf(c, loc=292, scale=np.sqrt(25))\n",
    "\n",
    "prob_type1_error_list = [prob_type1_error(c) for c in critical_value_list]\n",
    "prob_type2_error_list = [prob_type2_error(c) for c in critical_value_list]"
   ],
   "metadata": {
    "collapsed": false,
    "pycharm": {
     "name": "#%%\n"
    }
   }
  },
  {
   "cell_type": "code",
   "execution_count": null,
   "outputs": [],
   "source": [
    "%matplotlib widget\n",
    "plt.plot(critical_value_list, prob_type1_error_list, label = 'α')\n",
    "plt.plot(critical_value_list, prob_type2_error_list, label = 'β')\n",
    "plt.legend()\n",
    "plt.show()"
   ],
   "metadata": {
    "collapsed": false,
    "pycharm": {
     "name": "#%%\n"
    }
   }
  },
  {
   "cell_type": "markdown",
   "source": [
    "**Result**: Alpha and Beta errors are equal around when c = 285.67 MPa"
   ],
   "metadata": {
    "collapsed": false
   }
  },
  {
   "cell_type": "markdown",
   "source": [
    "### d) Wie groß müsste man den Stichprobenumfang n wählen, damit beide Irrtumswahrscheinlichkeiten gleich groß sind und höchstens gleich 0.02 sind?"
   ],
   "metadata": {
    "collapsed": false
   }
  },
  {
   "cell_type": "code",
   "execution_count": null,
   "outputs": [],
   "source": [
    "# 4x sample size for 2x reduction in probability of error\n",
    "\n",
    "# wo muss n = 25 berücksichtigt werden???"
   ],
   "metadata": {
    "collapsed": false,
    "pycharm": {
     "name": "#%%\n"
    }
   }
  },
  {
   "cell_type": "markdown",
   "source": [
    "## Aufgabe 80"
   ],
   "metadata": {
    "collapsed": false
   }
  },
  {
   "cell_type": "code",
   "execution_count": null,
   "outputs": [],
   "source": [
    "sample = [33, 31, 30, 29, 24, 27, 28, 31, 25, 23]"
   ],
   "metadata": {
    "collapsed": false,
    "pycharm": {
     "name": "#%%\n"
    }
   }
  },
  {
   "cell_type": "code",
   "execution_count": null,
   "outputs": [],
   "source": [
    "pd.DataFrame(sample).describe()"
   ],
   "metadata": {
    "collapsed": false,
    "pycharm": {
     "name": "#%%\n"
    }
   }
  },
  {
   "cell_type": "code",
   "execution_count": null,
   "outputs": [],
   "source": [
    "Z = (np.mean(sample) - 27) / (2 / math.sqrt(10)) # Z score\n",
    "Z"
   ],
   "metadata": {
    "collapsed": false,
    "pycharm": {
     "name": "#%%\n"
    }
   }
  },
  {
   "cell_type": "code",
   "execution_count": null,
   "outputs": [],
   "source": [
    "z = 1.96 # z critical value (0.975 in z-table based on a = 0.05 and two-sided testing)\n",
    "z"
   ],
   "metadata": {
    "collapsed": false,
    "pycharm": {
     "name": "#%%\n"
    }
   }
  },
  {
   "cell_type": "code",
   "execution_count": null,
   "outputs": [],
   "source": [
    "# With Z-Test:\n",
    "# if Z score > z critical value: Reject H0\n",
    "Z > z"
   ],
   "metadata": {
    "collapsed": false,
    "pycharm": {
     "name": "#%%\n"
    }
   }
  },
  {
   "cell_type": "markdown",
   "source": [
    "Mit einem 5% Signifikanzniveau gibt es statistische Evidenz dafür, dass die durchschnittliche Kerbschlagsarbeit 27 J ist. **H0 wird akzeptiert**."
   ],
   "metadata": {
    "collapsed": false
   }
  },
  {
   "cell_type": "code",
   "execution_count": null,
   "outputs": [],
   "source": [
    "# With T-Test:\n",
    "t = 2.62 # t critical value (t-table based on a = 0.05 two tailed with dof 10 - 1 = 9\n",
    "t"
   ],
   "metadata": {
    "collapsed": false,
    "pycharm": {
     "name": "#%%\n"
    }
   }
  },
  {
   "cell_type": "code",
   "execution_count": null,
   "outputs": [],
   "source": [
    "Z > t"
   ],
   "metadata": {
    "collapsed": false,
    "pycharm": {
     "name": "#%%\n"
    }
   }
  },
  {
   "cell_type": "markdown",
   "source": [
    "Hypothese H0 wird auch mit dem T-Test (# of samples < 30) akzeptiert"
   ],
   "metadata": {
    "collapsed": false
   }
  },
  {
   "cell_type": "markdown",
   "source": [
    "## Aufgabe 81"
   ],
   "metadata": {
    "collapsed": false
   }
  },
  {
   "cell_type": "code",
   "execution_count": null,
   "outputs": [],
   "source": [
    "# population: mü = 100 kg and std = 1.5 kg\n",
    "# sample with 225 bags: x_bar = 99.75 kg\n",
    "# H0: mü0 = 100 kg\n",
    "# H1: mü0 != 100 kg\n",
    "# alpha = 0.02"
   ],
   "metadata": {
    "collapsed": false,
    "pycharm": {
     "name": "#%%\n"
    }
   }
  },
  {
   "cell_type": "code",
   "execution_count": null,
   "outputs": [],
   "source": [
    "# calc the standardized statistic value\n",
    "standard_error = 1.5 / np.sqrt(225 - 1) # for sample, so dof = 1\n",
    "Z = abs((99.75 - 100) / standard_error)\n",
    "print('Z-score:', Z)"
   ],
   "metadata": {
    "collapsed": false,
    "pycharm": {
     "name": "#%%\n"
    }
   }
  },
  {
   "cell_type": "code",
   "execution_count": null,
   "outputs": [],
   "source": [
    "a = 0.02\n",
    "prop = 1 - (a * 2)\n",
    "z = st.norm.ppf(prop) # two-sided test\n",
    "print('z-value [critical value]:', z)"
   ],
   "metadata": {
    "collapsed": false,
    "pycharm": {
     "name": "#%%\n"
    }
   }
  },
  {
   "cell_type": "code",
   "execution_count": null,
   "outputs": [],
   "source": [
    "# check test result\n",
    "if Z > z: # reject H0\n",
    "    print('H0 rejected', 'Z =', Z, '/ ', 'z =', z)\n",
    "else:\n",
    "    print('H0 accepted', 'Z =', Z, '/ ', 'z =', z)"
   ],
   "metadata": {
    "collapsed": false,
    "pycharm": {
     "name": "#%%\n"
    }
   }
  },
  {
   "cell_type": "markdown",
   "source": [
    "at 2% significance level statistical evidence that mean weight is NOT 100 kg."
   ],
   "metadata": {
    "collapsed": false
   }
  },
  {
   "cell_type": "markdown",
   "source": [
    "## Aufgabe 82"
   ],
   "metadata": {
    "collapsed": false
   }
  },
  {
   "cell_type": "code",
   "execution_count": null,
   "outputs": [],
   "source": [
    "# H0: μ0 >= 12000 km\n",
    "# H1: μ0 < 12000 km\n",
    "# σ0 = 850\n",
    "# Sample: n = 100 α = 0.03"
   ],
   "metadata": {
    "collapsed": false,
    "pycharm": {
     "name": "#%%\n"
    }
   }
  },
  {
   "cell_type": "code",
   "execution_count": null,
   "outputs": [],
   "source": [
    "standard_error = 850 / np.sqrt(100 - 1) # of sample with dof = 1"
   ],
   "metadata": {
    "collapsed": false,
    "pycharm": {
     "name": "#%%\n"
    }
   }
  },
  {
   "cell_type": "code",
   "execution_count": null,
   "outputs": [],
   "source": [
    "# using standard error\n",
    "st.norm.ppf(0.03, loc=12000, scale=standard_error)"
   ],
   "metadata": {
    "collapsed": false,
    "pycharm": {
     "name": "#%%\n"
    }
   }
  },
  {
   "cell_type": "markdown",
   "source": [
    "Der Erwartungswert der Laufleistung muss den Wert von 11'839 km unterschreiten!"
   ],
   "metadata": {
    "collapsed": false
   }
  },
  {
   "cell_type": "code",
   "execution_count": null,
   "outputs": [],
   "source": [
    "# what's the meaning of this in that context???\n",
    "# using population standard deviation\n",
    "st.norm.ppf(0.03, loc=12000, scale=850)"
   ],
   "metadata": {
    "collapsed": false,
    "pycharm": {
     "name": "#%%\n"
    }
   }
  },
  {
   "cell_type": "markdown",
   "source": [
    "## Aufgabe 83"
   ],
   "metadata": {
    "collapsed": false
   }
  },
  {
   "cell_type": "code",
   "execution_count": null,
   "outputs": [],
   "source": [
    "# Exhaust max. 250 mg NOx / km\n",
    "# σ0 = 34 mg\n",
    "# Sample: n = 100 and x_bar = 255 mg / km\n",
    "\n",
    "# H0: μ0 <= 250 mg\n",
    "# H1: μ0 > 250 mg"
   ],
   "metadata": {
    "collapsed": false,
    "pycharm": {
     "name": "#%%\n"
    }
   }
  },
  {
   "cell_type": "markdown",
   "source": [
    "#### a) Kann die Vermutung der Behörde mit einer Irrtumswahrscheinlichkeit von α = 0.05 bestätigt werden?"
   ],
   "metadata": {
    "collapsed": false
   }
  },
  {
   "cell_type": "code",
   "execution_count": null,
   "outputs": [],
   "source": [
    "standard_error = 34 / np.sqrt(10 - 1)\n",
    "standard_error"
   ],
   "metadata": {
    "collapsed": false,
    "pycharm": {
     "name": "#%%\n"
    }
   }
  },
  {
   "cell_type": "code",
   "execution_count": null,
   "outputs": [],
   "source": [
    "Z = (255 - 250) / standard_error # standardized Z-score\n",
    "Z"
   ],
   "metadata": {
    "collapsed": false,
    "pycharm": {
     "name": "#%%\n"
    }
   }
  },
  {
   "cell_type": "code",
   "execution_count": null,
   "outputs": [],
   "source": [
    "a = 0.05\n",
    "prop = 1 - 0.05 # assuming one-sided test to the right\n",
    "z = st.norm.ppf(prop)\n",
    "z"
   ],
   "metadata": {
    "collapsed": false,
    "pycharm": {
     "name": "#%%\n"
    }
   }
  },
  {
   "cell_type": "code",
   "execution_count": null,
   "outputs": [],
   "source": [
    "# Check result\n",
    "null_hypothesis_accepted(Z, z)"
   ],
   "metadata": {
    "collapsed": false,
    "pycharm": {
     "name": "#%%\n"
    }
   }
  },
  {
   "cell_type": "markdown",
   "source": [
    "Null hypothesis accepted - no statistical evidence at alpha of 0.05 that exhaust too high"
   ],
   "metadata": {
    "collapsed": false
   }
  },
  {
   "cell_type": "markdown",
   "source": [
    "#### b) Wie viele Fahrzeuge müssten getestet werden, um bei gleichbleibendem Mittelwert und Standardabweichung die Vermutung der Behörde mit einer Irrtumswahrscheinlichkeit von α = 0.05 bestätigen zu können?\n",
    "\n",
    "Z müsste grösser als z (1.6448536269514722) werden"
   ],
   "metadata": {
    "collapsed": false
   }
  },
  {
   "cell_type": "code",
   "execution_count": null,
   "outputs": [],
   "source": [
    "sample_sizes = np.arange(10, 1000, 1)\n",
    "\n",
    "Z_scores = [Z_score(mu0=250, sigma0=34, n=size, x_bar=255) for size in sample_sizes]\n",
    "\n",
    "plt.clf()\n",
    "plt.plot(Z_scores, sample_sizes)\n",
    "plt.xlabel('Z score')\n",
    "plt.ylabel('sample size')\n",
    "plt.grid(alpha=.4,linestyle='--')\n",
    "plt.show()"
   ],
   "metadata": {
    "collapsed": false,
    "pycharm": {
     "name": "#%%\n"
    }
   }
  },
  {
   "cell_type": "code",
   "execution_count": null,
   "outputs": [],
   "source": [
    "df = pd.DataFrame(Z_scores)\n",
    "first_index_Z_bigger_than_z = df.index[df[0] > 1.6448536269514722].tolist()[0]\n",
    "print('sample size for H0 to get rejected:', sample_sizes[first_index_Z_bigger_than_z])"
   ],
   "metadata": {
    "collapsed": false,
    "pycharm": {
     "name": "#%%\n"
    }
   }
  },
  {
   "cell_type": "markdown",
   "source": [
    "## other random stuff"
   ],
   "metadata": {
    "collapsed": false
   }
  },
  {
   "cell_type": "code",
   "execution_count": null,
   "outputs": [],
   "source": [
    "c = st.norm.interval(0.90, loc=280, scale=np.sqrt(20)) # if this would be two-sided..."
   ],
   "metadata": {
    "collapsed": false,
    "pycharm": {
     "name": "#%%\n"
    }
   }
  },
  {
   "cell_type": "code",
   "execution_count": null,
   "outputs": [],
   "source": [
    "Z_score = ( - 280)\n",
    "st.norm.cdf(0.9999)\n",
    "\n",
    "z_value = 1 - 0.05\n",
    "print(z_value)"
   ],
   "metadata": {
    "collapsed": false,
    "pycharm": {
     "name": "#%%\n"
    }
   }
  },
  {
   "cell_type": "code",
   "execution_count": null,
   "outputs": [],
   "source": [
    "Z_score = (mu_s1 - mu_s2) / (np.std(drive_shaft_sample_1) / math.sqrt(N))\n",
    "Z_score"
   ],
   "metadata": {
    "collapsed": false,
    "pycharm": {
     "name": "#%%\n"
    }
   }
  },
  {
   "cell_type": "code",
   "execution_count": null,
   "outputs": [],
   "source": [
    "# drive shafts 1\n",
    "st.norm.interval(0.05, loc=280, scale=math.sqrt(20)/math.sqrt(N))"
   ],
   "metadata": {
    "collapsed": false,
    "pycharm": {
     "name": "#%%\n"
    }
   }
  },
  {
   "cell_type": "code",
   "execution_count": null,
   "outputs": [],
   "source": [
    "# drive shafts 2\n",
    "st.norm.interval(0.05, loc=292, scale=math.sqrt(25)/math.sqrt(N))"
   ],
   "metadata": {
    "collapsed": false,
    "pycharm": {
     "name": "#%%\n"
    }
   }
  }
 ],
 "metadata": {
  "kernelspec": {
   "display_name": "Python 3 (ipykernel)",
   "language": "python",
   "name": "python3"
  },
  "language_info": {
   "codemirror_mode": {
    "name": "ipython",
    "version": 3
   },
   "file_extension": ".py",
   "mimetype": "text/x-python",
   "name": "python",
   "nbconvert_exporter": "python",
   "pygments_lexer": "ipython3",
   "version": "3.8.12"
  }
 },
 "nbformat": 4,
 "nbformat_minor": 1
}