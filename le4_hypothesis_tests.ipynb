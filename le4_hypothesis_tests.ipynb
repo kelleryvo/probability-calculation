{
 "cells": [
  {
   "cell_type": "markdown",
   "metadata": {
    "pycharm": {
     "name": "#%% md\n"
    }
   },
   "source": [
    "# Imports and Functions"
   ]
  },
  {
   "cell_type": "code",
   "execution_count": 3,
   "metadata": {
    "pycharm": {
     "name": "#%%\n"
    }
   },
   "outputs": [],
   "source": [
    "import scipy.stats as st\n",
    "import seaborn as sns\n",
    "import matplotlib.pyplot as plt\n",
    "import numpy as np\n",
    "import pandas as pd\n",
    "import math"
   ]
  },
  {
   "cell_type": "code",
   "execution_count": 4,
   "metadata": {
    "pycharm": {
     "name": "#%%\n"
    }
   },
   "outputs": [],
   "source": [
    "def z_test_h0_accepted(Z, z):\n",
    "    if Z > z: # reject H0\n",
    "        print('H0 rejected', 'Z =', Z, '>', 'z =', z)\n",
    "        return False\n",
    "    else:\n",
    "        print('H0 accepted', 'Z =', Z, '<', 'z =', z)\n",
    "        return True\n",
    "\n",
    "def Z_score(population_mean_mu0, population_sd_sigma0, sample_mean_x_bar, sample_size_n):\n",
    "    \"\"\"\n",
    "    If no population SD is given, you can use the sample SD\n",
    "    \"\"\"\n",
    "    # https://stats.stackexchange.com/questions/463854/why-no-degrees-of-freedom-for-z-test no dof here\n",
    "    return abs((sample_mean_x_bar - population_mean_mu0) / (population_sd_sigma0 / np.sqrt(sample_size_n)))"
   ]
  },
  {
   "cell_type": "code",
   "execution_count": 5,
   "metadata": {
    "pycharm": {
     "name": "#%%\n"
    }
   },
   "outputs": [],
   "source": [
    "def t_test_h0_accepted(T, t):\n",
    "    if T > t: # reject H0\n",
    "        print('H0 rejected', 'T =', T, '>', 't =', t)\n",
    "        return False\n",
    "    else:\n",
    "        print('H0 accepted', 'T =', T, '<', 't =', t)\n",
    "        return True\n",
    "\n",
    "def T_score(population_mean_mu0, sample_mean_x_bar, sample_sd_s, sample_size_n):\n",
    "    # https://www.omnicalculator.com/statistics/t-test\n",
    "    # degrees of freedom -> used to find t value\n",
    "    return abs((sample_mean_x_bar - population_mean_mu0) / (sample_sd_s / np.sqrt(sample_size_n)))"
   ]
  },
  {
   "cell_type": "markdown",
   "metadata": {
    "pycharm": {
     "name": "#%% md\n"
    }
   },
   "source": [
    "# Serie 11\n",
    "\n",
    "## Aufgabe 5\n",
    "\n",
    "### Z-Test (wrong because >30 observations)"
   ]
  },
  {
   "cell_type": "code",
   "execution_count": 6,
   "metadata": {
    "pycharm": {
     "name": "#%%\n"
    }
   },
   "outputs": [
    {
     "data": {
      "text/plain": "498.3333333333333"
     },
     "execution_count": 6,
     "metadata": {},
     "output_type": "execute_result"
    }
   ],
   "source": [
    "# H0: mu0 = 500g\n",
    "# H1: mu0 != 500g\n",
    "data = [495, 502, 505, 498, 490, 500]\n",
    "x_bar = np.mean(data)\n",
    "x_bar"
   ]
  },
  {
   "cell_type": "code",
   "execution_count": 7,
   "metadata": {
    "pycharm": {
     "name": "#%%\n"
    }
   },
   "outputs": [
    {
     "data": {
      "text/plain": "2272.1669691836155"
     },
     "execution_count": 7,
     "metadata": {},
     "output_type": "execute_result"
    }
   ],
   "source": [
    "Z = Z_score(500, np.std(data), len(data), np.mean(data))\n",
    "Z"
   ]
  },
  {
   "cell_type": "code",
   "execution_count": 8,
   "metadata": {
    "pycharm": {
     "name": "#%%\n"
    }
   },
   "outputs": [
    {
     "data": {
      "text/plain": "1.2815515655446004"
     },
     "execution_count": 8,
     "metadata": {},
     "output_type": "execute_result"
    }
   ],
   "source": [
    "a = 0.05\n",
    "prop = 1 - (2 * a) # two-sided test\n",
    "z = st.norm.ppf(prop)\n",
    "z"
   ]
  },
  {
   "cell_type": "code",
   "execution_count": 9,
   "metadata": {
    "pycharm": {
     "name": "#%%\n"
    }
   },
   "outputs": [
    {
     "name": "stdout",
     "output_type": "stream",
     "text": [
      "H0 rejected Z = 2272.1669691836155 > z = 1.2815515655446004\n"
     ]
    },
    {
     "data": {
      "text/plain": "False"
     },
     "execution_count": 9,
     "metadata": {},
     "output_type": "execute_result"
    }
   ],
   "source": [
    "z_test_h0_accepted(Z, z)"
   ]
  },
  {
   "cell_type": "markdown",
   "metadata": {
    "pycharm": {
     "name": "#%% md\n"
    }
   },
   "source": [
    "### With Students-T\n",
    "\n",
    "as sample has less than 30 observations"
   ]
  },
  {
   "cell_type": "code",
   "execution_count": 10,
   "metadata": {
    "pycharm": {
     "name": "#%%\n"
    }
   },
   "outputs": [],
   "source": [
    "# H0: mu0 = 500g\n",
    "# H1: mu0 != 500g\n",
    "data = [495, 502, 505, 498, 490, 500]"
   ]
  },
  {
   "cell_type": "code",
   "execution_count": 11,
   "metadata": {
    "pycharm": {
     "name": "#%%\n"
    }
   },
   "outputs": [
    {
     "name": "stdout",
     "output_type": "stream",
     "text": [
      "T-statistic: 0.8411582311380759\n"
     ]
    }
   ],
   "source": [
    "T = T_score(500, np.mean(data), np.std(data), len(data))\n",
    "print('T-statistic:' , T)"
   ]
  },
  {
   "cell_type": "code",
   "execution_count": 12,
   "metadata": {
    "pycharm": {
     "name": "#%%\n"
    }
   },
   "outputs": [],
   "source": [
    "a = 0.05"
   ]
  },
  {
   "cell_type": "code",
   "execution_count": 13,
   "metadata": {
    "pycharm": {
     "name": "#%%\n"
    }
   },
   "outputs": [
    {
     "name": "stdout",
     "output_type": "stream",
     "text": [
      "t critical value:  2.5705818366147395\n"
     ]
    }
   ],
   "source": [
    "# two-tailed checking if mean different (higher OR lower)\n",
    "prop = 1 - (a / 2)\n",
    "\n",
    "t_value = st.t.ppf(prop, len(data) - 1)\n",
    "print('t critical value: ', t_value)"
   ]
  },
  {
   "cell_type": "code",
   "execution_count": 14,
   "metadata": {
    "pycharm": {
     "name": "#%%\n"
    }
   },
   "outputs": [
    {
     "data": {
      "text/plain": "(-2.5705818366147395, 2.5705818366147395)"
     },
     "execution_count": 14,
     "metadata": {},
     "output_type": "execute_result"
    }
   ],
   "source": [
    "# region in which the T-statistic can lie without H0 being rejected\n",
    "st.t.interval(0.95, df=len(data) - 1)"
   ]
  },
  {
   "cell_type": "code",
   "execution_count": 15,
   "metadata": {
    "pycharm": {
     "name": "#%%\n"
    }
   },
   "outputs": [
    {
     "name": "stdout",
     "output_type": "stream",
     "text": [
      "H0 accepted T = 0.8411582311380759 < t = 2.5705818366147395\n"
     ]
    },
    {
     "data": {
      "text/plain": "True"
     },
     "execution_count": 15,
     "metadata": {},
     "output_type": "execute_result"
    }
   ],
   "source": [
    "t_test_h0_accepted(T, t_value)"
   ]
  },
  {
   "cell_type": "markdown",
   "metadata": {
    "pycharm": {
     "name": "#%% md\n"
    }
   },
   "source": [
    "Our t-score is outside of the critical region, so there is not enough evidence to reject H₀.\n",
    "\n",
    "-> No statistical evidence that mean weight of 500g is wrong."
   ]
  },
  {
   "cell_type": "markdown",
   "metadata": {
    "pycharm": {
     "name": "#%% md\n"
    }
   },
   "source": [
    "# Serie 14\n",
    "\n",
    "## Aufgabe 79"
   ]
  },
  {
   "cell_type": "code",
   "execution_count": 16,
   "metadata": {
    "pycharm": {
     "name": "#%%\n"
    }
   },
   "outputs": [
    {
     "data": {
      "text/plain": "<seaborn.axisgrid.FacetGrid at 0x7fef119d5250>"
     },
     "execution_count": 16,
     "metadata": {},
     "output_type": "execute_result"
    },
    {
     "data": {
      "text/plain": "<Figure size 401.625x360 with 1 Axes>",
      "image/png": "[encoded data removed]"
     },
     "metadata": {},
     "output_type": "display_data"
    }
   ],
   "source": [
    "drive_shaft_1 = st.norm.rvs(loc=280, scale=20, size=1000)\n",
    "drive_shaft_2 = st.norm.rvs(loc=292, scale=25, size=1000)\n",
    "sns.displot([drive_shaft_1, drive_shaft_2])"
   ]
  },
  {
   "cell_type": "code",
   "execution_count": 17,
   "metadata": {
    "pycharm": {
     "name": "#%%\n"
    }
   },
   "outputs": [],
   "source": [
    "# Stichprobe mit n = 25\n",
    "N = 25\n",
    "\n",
    "drive_shaft_sample_1 = st.norm.rvs(loc=280, scale=math.sqrt(20), size=25)\n",
    "drive_shaft_sample_2 = st.norm.rvs(loc=292, scale=math.sqrt(25), size=25)"
   ]
  },
  {
   "cell_type": "code",
   "execution_count": 18,
   "metadata": {
    "pycharm": {
     "name": "#%%\n"
    }
   },
   "outputs": [
    {
     "data": {
      "text/plain": "                0\ncount   25.000000\nmean   279.668817\nstd      4.613409\nmin    270.042926\n25%    275.947785\n50%    279.532699\n75%    283.755734\nmax    286.065547",
      "text/html": "<div>\n<style scoped>\n    .dataframe tbody tr th:only-of-type {\n        vertical-align: middle;\n    }\n\n    .dataframe tbody tr th {\n        vertical-align: top;\n    }\n\n    .dataframe thead th {\n        text-align: right;\n    }\n</style>\n<table border=\"1\" class=\"dataframe\">\n  <thead>\n    <tr style=\"text-align: right;\">\n      <th></th>\n      <th>0</th>\n    </tr>\n  </thead>\n  <tbody>\n    <tr>\n      <th>count</th>\n      <td>25.000000</td>\n    </tr>\n    <tr>\n      <th>mean</th>\n      <td>279.668817</td>\n    </tr>\n    <tr>\n      <th>std</th>\n      <td>4.613409</td>\n    </tr>\n    <tr>\n      <th>min</th>\n      <td>270.042926</td>\n    </tr>\n    <tr>\n      <th>25%</th>\n      <td>275.947785</td>\n    </tr>\n    <tr>\n      <th>50%</th>\n      <td>279.532699</td>\n    </tr>\n    <tr>\n      <th>75%</th>\n      <td>283.755734</td>\n    </tr>\n    <tr>\n      <th>max</th>\n      <td>286.065547</td>\n    </tr>\n  </tbody>\n</table>\n</div>"
     },
     "execution_count": 18,
     "metadata": {},
     "output_type": "execute_result"
    }
   ],
   "source": [
    "pd.DataFrame(drive_shaft_sample_1).describe()"
   ]
  },
  {
   "cell_type": "code",
   "execution_count": 19,
   "metadata": {
    "pycharm": {
     "name": "#%%\n"
    }
   },
   "outputs": [
    {
     "data": {
      "text/plain": "                0\ncount   25.000000\nmean   291.795725\nstd      6.196876\nmin    282.834947\n25%    287.524561\n50%    291.602854\n75%    295.715053\nmax    305.121734",
      "text/html": "<div>\n<style scoped>\n    .dataframe tbody tr th:only-of-type {\n        vertical-align: middle;\n    }\n\n    .dataframe tbody tr th {\n        vertical-align: top;\n    }\n\n    .dataframe thead th {\n        text-align: right;\n    }\n</style>\n<table border=\"1\" class=\"dataframe\">\n  <thead>\n    <tr style=\"text-align: right;\">\n      <th></th>\n      <th>0</th>\n    </tr>\n  </thead>\n  <tbody>\n    <tr>\n      <th>count</th>\n      <td>25.000000</td>\n    </tr>\n    <tr>\n      <th>mean</th>\n      <td>291.795725</td>\n    </tr>\n    <tr>\n      <th>std</th>\n      <td>6.196876</td>\n    </tr>\n    <tr>\n      <th>min</th>\n      <td>282.834947</td>\n    </tr>\n    <tr>\n      <th>25%</th>\n      <td>287.524561</td>\n    </tr>\n    <tr>\n      <th>50%</th>\n      <td>291.602854</td>\n    </tr>\n    <tr>\n      <th>75%</th>\n      <td>295.715053</td>\n    </tr>\n    <tr>\n      <th>max</th>\n      <td>305.121734</td>\n    </tr>\n  </tbody>\n</table>\n</div>"
     },
     "execution_count": 19,
     "metadata": {},
     "output_type": "execute_result"
    }
   ],
   "source": [
    "pd.DataFrame(drive_shaft_sample_2).describe()"
   ]
  },
  {
   "cell_type": "code",
   "execution_count": 20,
   "metadata": {
    "pycharm": {
     "name": "#%%\n"
    }
   },
   "outputs": [
    {
     "name": "stdout",
     "output_type": "stream",
     "text": [
      "279.6688168681799\n",
      "291.7957251741502\n"
     ]
    }
   ],
   "source": [
    "mu_s1 = np.mean(drive_shaft_sample_1)\n",
    "print(mu_s1)\n",
    "mu_s2 = np.mean(drive_shaft_sample_2)\n",
    "print(mu_s2)"
   ]
  },
  {
   "cell_type": "code",
   "execution_count": 21,
   "metadata": {
    "pycharm": {
     "name": "#%%\n"
    }
   },
   "outputs": [
    {
     "data": {
      "text/plain": "0.3989422804014327"
     },
     "execution_count": 21,
     "metadata": {},
     "output_type": "execute_result"
    }
   ],
   "source": [
    "st.norm.pdf(0)"
   ]
  },
  {
   "cell_type": "markdown",
   "metadata": {
    "pycharm": {
     "name": "#%% md\n"
    }
   },
   "source": [
    "H0: mu = 280 MPa\n",
    "H1: mu != 280 MPa\n",
    "\n",
    "### a) Bestimmmen sie die Grenze c bei gegebener Irrtumswahrscheinlichkeit α = 0.05.\n",
    "Wie groß ist in diesem Fall die Irrtumswahrscheinlichkeit 2. Art, β?\n",
    "\n",
    "PPF:\n",
    "Density functions return the probability of an observation in the distribution. Recall the definitions of the PDF and CDF as follows:\n",
    "\n",
    "Probability Density Function (PDF): Returns the probability for an observation having a specific value from the distribution.\n",
    "Cumulative Density Function (CDF): Returns the probability for an observation equal to or lesser than a specific value from the distribution.\n",
    "In order to calculate a critical value, we require a function that, given a probability (or significance), will return the observation value from the distribution.\n",
    "\n",
    "Specifically, we require the inverse of the cumulative density function, where given a probability, we are **given the observation value that is less than or equal to the probability**.\n",
    "--> This is called the percent point function (PPF), or more generally the quantile function."
   ]
  },
  {
   "cell_type": "code",
   "execution_count": 22,
   "metadata": {
    "pycharm": {
     "name": "#%%\n"
    }
   },
   "outputs": [
    {
     "name": "stdout",
     "output_type": "stream",
     "text": [
      "286.5794145078059 MPa\n"
     ]
    }
   ],
   "source": [
    "# critical value c so that there is only a 5% chance of rejecting H0 even if it is true\n",
    "critical_value_c = st.norm.ppf(0.95, loc=280, scale=20/np.sqrt(25)) # based on one-sided test and alpha of 0.05\n",
    "print(critical_value_c, 'MPa')"
   ]
  },
  {
   "cell_type": "code",
   "execution_count": 23,
   "metadata": {
    "pycharm": {
     "name": "#%%\n"
    }
   },
   "outputs": [
    {
     "name": "stdout",
     "output_type": "stream",
     "text": [
      "13.92 %\n"
     ]
    }
   ],
   "source": [
    "# Error Type 2 - how high is probability (cdf) that we falsely accept H0 and the part is actually from the other distribution\n",
    "error_type_2_prob = st.norm.cdf(critical_value_c, loc=292, scale=25/np.sqrt(25))\n",
    "\n",
    "print((error_type_2_prob * 100).round(2), '%')"
   ]
  },
  {
   "cell_type": "markdown",
   "metadata": {
    "pycharm": {
     "name": "#%% md\n"
    }
   },
   "source": [
    "### b) die Grenze c bei gegebener Irrtumswahrscheinlichkeit β = 0.2.\n",
    "Wie groß ist in diesem Fall die Irrtumswahrscheinlichkeit 1. Art, α?"
   ]
  },
  {
   "cell_type": "code",
   "execution_count": 24,
   "metadata": {
    "pycharm": {
     "name": "#%%\n"
    }
   },
   "outputs": [
    {
     "name": "stdout",
     "output_type": "stream",
     "text": [
      "287.79189383213543 MPa\n"
     ]
    }
   ],
   "source": [
    "# choose critical value so that probability of β error becomes 0.2\n",
    "critical_value_c = st.norm.ppf(0.2, loc=292, scale=25/np.sqrt(25))\n",
    "print(critical_value_c, 'MPa')"
   ]
  },
  {
   "cell_type": "code",
   "execution_count": 25,
   "metadata": {
    "pycharm": {
     "name": "#%%\n"
    }
   },
   "outputs": [
    {
     "name": "stdout",
     "output_type": "stream",
     "text": [
      "2.57 %\n"
     ]
    }
   ],
   "source": [
    "# calculate α when critical value based on β error 0.2\n",
    "error_type_1_prob = 1 - st.norm.cdf(critical_value_c, loc=280, scale=20/np.sqrt(25))\n",
    "print((error_type_1_prob * 100).round(2), '%')"
   ]
  },
  {
   "cell_type": "markdown",
   "metadata": {
    "pycharm": {
     "name": "#%% md\n"
    }
   },
   "source": [
    "#### c) die Grenze c, falls beide Irrtumswahrscheinlichkeiten gleich groß sein sollen, d.h. α = β?"
   ]
  },
  {
   "cell_type": "code",
   "execution_count": 26,
   "metadata": {
    "pycharm": {
     "name": "#%%\n"
    }
   },
   "outputs": [],
   "source": [
    "critical_value_list = np.arange(280, 290, 0.001)\n",
    "\n",
    "# c_critical_value so that\n",
    "def prob_type1_error(c):\n",
    "    return 1 - st.norm.cdf(c, loc=280, scale=20/np.sqrt(25))\n",
    "\n",
    "# equals\n",
    "def prob_type2_error(c):\n",
    "    return st.norm.cdf(c, loc=292, scale=25/np.sqrt(25))\n",
    "\n",
    "prob_type1_error_list = [prob_type1_error(c) for c in critical_value_list]\n",
    "prob_type2_error_list = [prob_type2_error(c) for c in critical_value_list]"
   ]
  },
  {
   "cell_type": "code",
   "execution_count": 27,
   "metadata": {
    "pycharm": {
     "name": "#%%\n"
    }
   },
   "outputs": [
    {
     "data": {
      "text/plain": "<Figure size 432x288 with 1 Axes>",
      "image/png": "[encoded data removed]"
     },
     "metadata": {},
     "output_type": "display_data"
    }
   ],
   "source": [
    "plt.plot(critical_value_list, prob_type1_error_list, label = 'α')\n",
    "plt.plot(critical_value_list, prob_type2_error_list, label = 'β')\n",
    "plt.legend()\n",
    "plt.show()"
   ]
  },
  {
   "cell_type": "markdown",
   "metadata": {
    "pycharm": {
     "name": "#%% md\n"
    }
   },
   "source": [
    "**Result**: Alpha and Beta errors are equal around when c = 285.33 MPa"
   ]
  },
  {
   "cell_type": "markdown",
   "metadata": {
    "pycharm": {
     "name": "#%% md\n"
    }
   },
   "source": [
    "### d) Wie groß müsste man den Stichprobenumfang n wählen, damit beide Irrtumswahrscheinlichkeiten gleich groß sind und höchstens gleich 0.02 sind?"
   ]
  },
  {
   "cell_type": "code",
   "execution_count": 28,
   "metadata": {
    "pycharm": {
     "name": "#%%\n"
    }
   },
   "outputs": [],
   "source": [
    "# 4x sample size for 2x reduction in probability of error"
   ]
  },
  {
   "cell_type": "code",
   "execution_count": 29,
   "metadata": {
    "pycharm": {
     "name": "#%%\n"
    }
   },
   "outputs": [],
   "source": [
    "# fix c and find sample size that matches condition max 0.02 probability of error\n",
    "c = 285.33 # from c)\n",
    "sample_size_list = np.arange(25, 200)\n",
    "\n",
    "# c_critical_value so that\n",
    "def prob_type1_error(c, n):\n",
    "    return 1 - st.norm.cdf(c, loc=280, scale=20/np.sqrt(n))\n",
    "\n",
    "# equals\n",
    "def prob_type2_error(c, n):\n",
    "    return st.norm.cdf(c, loc=292, scale=25/np.sqrt(n))\n",
    "\n",
    "prob_type1_error_list = [prob_type1_error(c, n) for n in sample_size_list]\n",
    "prob_type2_error_list = [prob_type2_error(c, n) for n in sample_size_list]"
   ]
  },
  {
   "cell_type": "code",
   "execution_count": 30,
   "metadata": {
    "pycharm": {
     "name": "#%%\n"
    }
   },
   "outputs": [
    {
     "data": {
      "text/plain": "<Figure size 432x288 with 1 Axes>",
      "image/png": "[encoded data removed]"
     },
     "metadata": {
      "needs_background": "light"
     },
     "output_type": "display_data"
    }
   ],
   "source": [
    "%matplotlib inline\n",
    "plt.plot(sample_size_list, prob_type1_error_list, label = 'α', linestyle=\"\", marker=\"x\")\n",
    "plt.plot(sample_size_list, prob_type2_error_list, label = 'β')\n",
    "plt.legend()\n",
    "plt.show()"
   ]
  },
  {
   "cell_type": "markdown",
   "source": [
    "With a sample size of n >= 60, the probability of error becomes lower than 0.02 %"
   ],
   "metadata": {
    "collapsed": false,
    "pycharm": {
     "name": "#%% md\n"
    }
   }
  },
  {
   "cell_type": "markdown",
   "metadata": {
    "pycharm": {
     "name": "#%% md\n"
    }
   },
   "source": [
    "## Aufgabe 80"
   ]
  },
  {
   "cell_type": "code",
   "execution_count": 31,
   "metadata": {
    "pycharm": {
     "name": "#%%\n"
    }
   },
   "outputs": [],
   "source": [
    "# H0: μ = 27 J\n",
    "# H1: μ != 27 J\n",
    "# sigma = 2.0\n",
    "# a = 0.05\n",
    "sample = [33, 31, 30, 29, 24, 27, 28, 31, 25, 23]"
   ]
  },
  {
   "cell_type": "code",
   "execution_count": 32,
   "metadata": {
    "pycharm": {
     "name": "#%%\n"
    }
   },
   "outputs": [
    {
     "data": {
      "text/plain": "               0\ncount  10.000000\nmean   28.100000\nstd     3.314949\nmin    23.000000\n25%    25.500000\n50%    28.500000\n75%    30.750000\nmax    33.000000",
      "text/html": "<div>\n<style scoped>\n    .dataframe tbody tr th:only-of-type {\n        vertical-align: middle;\n    }\n\n    .dataframe tbody tr th {\n        vertical-align: top;\n    }\n\n    .dataframe thead th {\n        text-align: right;\n    }\n</style>\n<table border=\"1\" class=\"dataframe\">\n  <thead>\n    <tr style=\"text-align: right;\">\n      <th></th>\n      <th>0</th>\n    </tr>\n  </thead>\n  <tbody>\n    <tr>\n      <th>count</th>\n      <td>10.000000</td>\n    </tr>\n    <tr>\n      <th>mean</th>\n      <td>28.100000</td>\n    </tr>\n    <tr>\n      <th>std</th>\n      <td>3.314949</td>\n    </tr>\n    <tr>\n      <th>min</th>\n      <td>23.000000</td>\n    </tr>\n    <tr>\n      <th>25%</th>\n      <td>25.500000</td>\n    </tr>\n    <tr>\n      <th>50%</th>\n      <td>28.500000</td>\n    </tr>\n    <tr>\n      <th>75%</th>\n      <td>30.750000</td>\n    </tr>\n    <tr>\n      <th>max</th>\n      <td>33.000000</td>\n    </tr>\n  </tbody>\n</table>\n</div>"
     },
     "execution_count": 32,
     "metadata": {},
     "output_type": "execute_result"
    }
   ],
   "source": [
    "pd.DataFrame(sample).describe()"
   ]
  },
  {
   "cell_type": "markdown",
   "source": [
    "### z-test"
   ],
   "metadata": {
    "collapsed": false,
    "pycharm": {
     "name": "#%% md\n"
    }
   }
  },
  {
   "cell_type": "code",
   "execution_count": 33,
   "outputs": [
    {
     "data": {
      "text/plain": "1.7392527130926108"
     },
     "execution_count": 33,
     "metadata": {},
     "output_type": "execute_result"
    }
   ],
   "source": [
    "# Z score\n",
    "Z = Z_score(population_mean_mu0=27, population_sd_sigma0=2, sample_mean_x_bar=np.mean(sample), sample_size_n=len(sample))\n",
    "Z"
   ],
   "metadata": {
    "collapsed": false,
    "pycharm": {
     "name": "#%%\n"
    }
   }
  },
  {
   "cell_type": "code",
   "execution_count": 34,
   "outputs": [
    {
     "data": {
      "text/plain": "1.959963984540054"
     },
     "execution_count": 34,
     "metadata": {},
     "output_type": "execute_result"
    }
   ],
   "source": [
    "# z critical value\n",
    "a = 0.05\n",
    "q = 1 - (a / 2) # two-sided test\n",
    "z = st.norm.ppf(q)\n",
    "z"
   ],
   "metadata": {
    "collapsed": false,
    "pycharm": {
     "name": "#%%\n"
    }
   }
  },
  {
   "cell_type": "code",
   "execution_count": 35,
   "outputs": [
    {
     "data": {
      "text/plain": "(-1.959963984540054, 1.959963984540054)"
     },
     "execution_count": 35,
     "metadata": {},
     "output_type": "execute_result"
    }
   ],
   "source": [
    "# H0 acceptance region\n",
    "st.norm.interval(0.95)"
   ],
   "metadata": {
    "collapsed": false,
    "pycharm": {
     "name": "#%%\n"
    }
   }
  },
  {
   "cell_type": "code",
   "execution_count": 36,
   "metadata": {
    "pycharm": {
     "name": "#%%\n"
    }
   },
   "outputs": [
    {
     "name": "stdout",
     "output_type": "stream",
     "text": [
      "H0 accepted Z = 1.7392527130926108 < z = 1.959963984540054\n"
     ]
    },
    {
     "data": {
      "text/plain": "True"
     },
     "execution_count": 36,
     "metadata": {},
     "output_type": "execute_result"
    }
   ],
   "source": [
    "# With Z-Test:\n",
    "# if Z score > z critical value: Reject H0\n",
    "z_test_h0_accepted(Z, z)"
   ]
  },
  {
   "cell_type": "markdown",
   "metadata": {
    "pycharm": {
     "name": "#%% md\n"
    }
   },
   "source": [
    "Mit einem 5% Signifikanzniveau gibt es statistische Evidenz dafür, dass die durchschnittliche Kerbschlagsarbeit 27 J ist. **H0 wird akzeptiert**."
   ]
  },
  {
   "cell_type": "markdown",
   "source": [
    "### t-test"
   ],
   "metadata": {
    "collapsed": false,
    "pycharm": {
     "name": "#%% md\n"
    }
   }
  },
  {
   "cell_type": "code",
   "execution_count": 37,
   "outputs": [],
   "source": [
    "T = T_score(27, np.mean(sample), np.std(sample), len(sample))"
   ],
   "metadata": {
    "collapsed": false,
    "pycharm": {
     "name": "#%%\n"
    }
   }
  },
  {
   "cell_type": "code",
   "execution_count": 38,
   "outputs": [],
   "source": [
    "a = 0.05\n",
    "q = 1 - (0.05 / 2)\n",
    "t = st.t.ppf(q, df=len(sample)) # t critical value (t-table based on a = 0.05 two tailed with dof 10 - 1 = 9)"
   ],
   "metadata": {
    "collapsed": false,
    "pycharm": {
     "name": "#%%\n"
    }
   }
  },
  {
   "cell_type": "code",
   "execution_count": 39,
   "metadata": {
    "pycharm": {
     "name": "#%%\n"
    }
   },
   "outputs": [
    {
     "name": "stdout",
     "output_type": "stream",
     "text": [
      "H0 accepted T = 1.106100374479031 < t = 2.2281388519649385\n"
     ]
    },
    {
     "data": {
      "text/plain": "True"
     },
     "execution_count": 39,
     "metadata": {},
     "output_type": "execute_result"
    }
   ],
   "source": [
    "t_test_h0_accepted(T, t)"
   ]
  },
  {
   "cell_type": "markdown",
   "metadata": {
    "pycharm": {
     "name": "#%% md\n"
    }
   },
   "source": [
    "Hypothese H0 wird auch mit dem T-Test (# of samples < 30) akzeptiert"
   ]
  },
  {
   "cell_type": "markdown",
   "metadata": {
    "pycharm": {
     "name": "#%% md\n"
    }
   },
   "source": [
    "## Aufgabe 81"
   ]
  },
  {
   "cell_type": "code",
   "execution_count": 205,
   "metadata": {
    "pycharm": {
     "name": "#%%\n"
    }
   },
   "outputs": [],
   "source": [
    "# population: mü = 100 kg and std = 1.5 kg\n",
    "# sample with 225 bags: x_bar = 99.75 kg\n",
    "# H0: mü0 = 100 kg\n",
    "# H1: mü0 != 100 kg\n",
    "# alpha = 0.02"
   ]
  },
  {
   "cell_type": "code",
   "execution_count": 206,
   "outputs": [
    {
     "data": {
      "text/plain": "2.5"
     },
     "execution_count": 206,
     "metadata": {},
     "output_type": "execute_result"
    }
   ],
   "source": [
    "Z = Z_score(100, 1.5, 99.75, 225)\n",
    "Z # score"
   ],
   "metadata": {
    "collapsed": false,
    "pycharm": {
     "name": "#%%\n"
    }
   }
  },
  {
   "cell_type": "code",
   "execution_count": 207,
   "outputs": [
    {
     "data": {
      "text/plain": "2.3263478740408408"
     },
     "execution_count": 207,
     "metadata": {},
     "output_type": "execute_result"
    }
   ],
   "source": [
    "a = 0.02\n",
    "q = 1 - (a / 2)\n",
    "z = st.norm.ppf(q)\n",
    "z # critical value"
   ],
   "metadata": {
    "collapsed": false,
    "pycharm": {
     "name": "#%%\n"
    }
   }
  },
  {
   "cell_type": "code",
   "execution_count": 208,
   "outputs": [
    {
     "data": {
      "text/plain": "(-2.3263478740408408, 2.3263478740408408)"
     },
     "execution_count": 208,
     "metadata": {},
     "output_type": "execute_result"
    }
   ],
   "source": [
    "# H0 acceptance range\n",
    "st.norm.interval(0.98)"
   ],
   "metadata": {
    "collapsed": false,
    "pycharm": {
     "name": "#%%\n"
    }
   }
  },
  {
   "cell_type": "code",
   "execution_count": 209,
   "outputs": [
    {
     "name": "stdout",
     "output_type": "stream",
     "text": [
      "H0 rejected Z = 2.5 > z = 2.3263478740408408\n"
     ]
    },
    {
     "data": {
      "text/plain": "False"
     },
     "execution_count": 209,
     "metadata": {},
     "output_type": "execute_result"
    }
   ],
   "source": [
    "z_test_h0_accepted(Z, z)"
   ],
   "metadata": {
    "collapsed": false,
    "pycharm": {
     "name": "#%%\n"
    }
   }
  },
  {
   "cell_type": "markdown",
   "metadata": {
    "pycharm": {
     "name": "#%% md\n"
    }
   },
   "source": [
    "at 2% significance level statistical evidence that mean weight is NOT 100 kg."
   ]
  },
  {
   "cell_type": "markdown",
   "metadata": {
    "pycharm": {
     "name": "#%% md\n"
    }
   },
   "source": [
    "## Aufgabe 82"
   ]
  },
  {
   "cell_type": "code",
   "execution_count": 210,
   "metadata": {
    "pycharm": {
     "name": "#%%\n"
    }
   },
   "outputs": [],
   "source": [
    "# H0: μ0 >= 12000 km\n",
    "# H1: μ0 < 12000 km\n",
    "# σ0 = 850\n",
    "# Sample: n = 100 α = 0.03"
   ]
  },
  {
   "cell_type": "code",
   "execution_count": 211,
   "outputs": [
    {
     "data": {
      "text/plain": "11839.327160594365"
     },
     "execution_count": 211,
     "metadata": {},
     "output_type": "execute_result"
    }
   ],
   "source": [
    "# using standard error, find probability that the mean of a sample with n = 100 lands within the lowest 3% under the distribution curve\n",
    "standard_error = 850 / np.sqrt(100 - 1)\n",
    "st.norm.ppf(0.03, loc=12000, scale=standard_error)"
   ],
   "metadata": {
    "collapsed": false,
    "pycharm": {
     "name": "#%%\n"
    }
   }
  },
  {
   "cell_type": "markdown",
   "metadata": {
    "pycharm": {
     "name": "#%% md\n"
    }
   },
   "source": [
    "Der Erwartungswert der Laufleistung muss den Wert von 11'839 km unterschreiten!"
   ]
  },
  {
   "cell_type": "code",
   "execution_count": 212,
   "metadata": {
    "pycharm": {
     "name": "#%%\n"
    }
   },
   "outputs": [
    {
     "data": {
      "text/plain": "10401.325433071437"
     },
     "execution_count": 212,
     "metadata": {},
     "output_type": "execute_result"
    }
   ],
   "source": [
    "# what's the meaning of this in that context:\n",
    "# using population standard deviation, so probability that a single value of that distribution lands within the lowest 3% under the distribution curve\n",
    "st.norm.ppf(0.03, loc=12000, scale=850)"
   ]
  },
  {
   "cell_type": "markdown",
   "metadata": {
    "pycharm": {
     "name": "#%% md\n"
    }
   },
   "source": [
    "## Aufgabe 83"
   ]
  },
  {
   "cell_type": "code",
   "execution_count": 213,
   "metadata": {
    "pycharm": {
     "name": "#%%\n"
    }
   },
   "outputs": [],
   "source": [
    "# Exhaust max. 250 mg NOx / km\n",
    "# σ0 = 34 mg\n",
    "# Sample: n = 100 and x_bar = 255 mg / km\n",
    "\n",
    "# H0: μ0 <= 250 mg\n",
    "# H1: μ0 > 250 mg"
   ]
  },
  {
   "cell_type": "markdown",
   "metadata": {
    "pycharm": {
     "name": "#%% md\n"
    }
   },
   "source": [
    "#### a) Kann die Vermutung der Behörde mit einer Irrtumswahrscheinlichkeit von α = 0.05 bestätigt werden?"
   ]
  },
  {
   "cell_type": "code",
   "execution_count": 214,
   "outputs": [
    {
     "data": {
      "text/plain": "1.4705882352941178"
     },
     "execution_count": 214,
     "metadata": {},
     "output_type": "execute_result"
    }
   ],
   "source": [
    "Z = Z_score(250, 34, 255, 100)\n",
    "Z"
   ],
   "metadata": {
    "collapsed": false,
    "pycharm": {
     "name": "#%%\n"
    }
   }
  },
  {
   "cell_type": "code",
   "execution_count": 215,
   "outputs": [
    {
     "data": {
      "text/plain": "1.6448536269514722"
     },
     "execution_count": 215,
     "metadata": {},
     "output_type": "execute_result"
    }
   ],
   "source": [
    "a = 0.05\n",
    "q = 1 - a\n",
    "z = st.norm.ppf(q)\n",
    "z"
   ],
   "metadata": {
    "collapsed": false,
    "pycharm": {
     "name": "#%%\n"
    }
   }
  },
  {
   "cell_type": "code",
   "execution_count": 216,
   "outputs": [
    {
     "name": "stdout",
     "output_type": "stream",
     "text": [
      "mean of this sample would have to be higher than 255.59250233163502 mg\n"
     ]
    }
   ],
   "source": [
    "z_in_mg = st.norm.ppf(q, loc = 250, scale = 34 / np.sqrt(100))\n",
    "print('mean of this sample would have to be higher than', z_in_mg, 'mg')"
   ],
   "metadata": {
    "collapsed": false,
    "pycharm": {
     "name": "#%%\n"
    }
   }
  },
  {
   "cell_type": "code",
   "execution_count": 217,
   "outputs": [
    {
     "name": "stdout",
     "output_type": "stream",
     "text": [
      "H0 accepted Z = 1.4705882352941178 < z = 1.6448536269514722\n"
     ]
    },
    {
     "data": {
      "text/plain": "True"
     },
     "execution_count": 217,
     "metadata": {},
     "output_type": "execute_result"
    }
   ],
   "source": [
    "z_test_h0_accepted(Z, z)"
   ],
   "metadata": {
    "collapsed": false,
    "pycharm": {
     "name": "#%%\n"
    }
   }
  },
  {
   "cell_type": "markdown",
   "metadata": {
    "pycharm": {
     "name": "#%% md\n"
    }
   },
   "source": [
    "Null hypothesis accepted - no statistical evidence at alpha of 0.05 that exhaust too high"
   ]
  },
  {
   "cell_type": "markdown",
   "metadata": {
    "pycharm": {
     "name": "#%% md\n"
    }
   },
   "source": [
    "#### b) Wie viele Fahrzeuge müssten getestet werden, um bei gleichbleibendem Mittelwert und Standardabweichung die Vermutung der Behörde mit einer Irrtumswahrscheinlichkeit von α = 0.05 bestätigen zu können?\n",
    "\n",
    "Z müsste grösser als z (1.6448536269514722) werden"
   ]
  },
  {
   "cell_type": "code",
   "execution_count": 218,
   "metadata": {
    "pycharm": {
     "name": "#%%\n"
    }
   },
   "outputs": [
    {
     "data": {
      "text/plain": "<Figure size 432x288 with 1 Axes>",
      "image/png": "[encoded data removed]"
     },
     "metadata": {
      "needs_background": "light"
     },
     "output_type": "display_data"
    }
   ],
   "source": [
    "sample_sizes = np.arange(10, 1000, 1)\n",
    "\n",
    "Z_scores = [Z_score(population_mean_mu0=250, population_sd_sigma0=34, sample_size_n=size, sample_mean_x_bar=255) for size in sample_sizes]\n",
    "\n",
    "plt.clf()\n",
    "plt.plot(Z_scores, sample_sizes)\n",
    "plt.xlabel('Z score')\n",
    "plt.ylabel('sample size')\n",
    "plt.grid(alpha=.4,linestyle='--')\n",
    "plt.show()"
   ]
  },
  {
   "cell_type": "code",
   "execution_count": 219,
   "metadata": {
    "pycharm": {
     "name": "#%%\n"
    }
   },
   "outputs": [
    {
     "name": "stdout",
     "output_type": "stream",
     "text": [
      "sample size needed for H0 to get rejected: 126\n"
     ]
    }
   ],
   "source": [
    "df = pd.DataFrame(Z_scores)\n",
    "first_index_Z_bigger_than_z = df.index[df[0] > 1.6448536269514722].tolist()[0]\n",
    "print('sample size needed for H0 to get rejected:', sample_sizes[first_index_Z_bigger_than_z])"
   ]
  }
 ],
 "metadata": {
  "kernelspec": {
   "display_name": "Python 3 (ipykernel)",
   "language": "python",
   "name": "python3"
  },
  "language_info": {
   "codemirror_mode": {
    "name": "ipython",
    "version": 3
   },
   "file_extension": ".py",
   "mimetype": "text/x-python",
   "name": "python",
   "nbconvert_exporter": "python",
   "pygments_lexer": "ipython3",
   "version": "3.8.12"
  }
 },
 "nbformat": 4,
 "nbformat_minor": 1
}