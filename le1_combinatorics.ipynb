{
 "cells": [
  {
   "cell_type": "markdown",
   "metadata": {
    "collapsed": true,
    "pycharm": {
     "name": "#%% md\n"
    }
   },
   "source": [
    "# Combinatorics"
   ]
  },
  {
   "cell_type": "code",
   "execution_count": null,
   "outputs": [],
   "source": [
    "import math"
   ],
   "metadata": {
    "collapsed": false,
    "pycharm": {
     "name": "#%%\n"
    }
   }
  },
  {
   "cell_type": "code",
   "execution_count": null,
   "outputs": [],
   "source": [
    "def Variationen_mit():\n",
    "    # Geordnete Stichprobe\n",
    "    # n = Anzahl Elemente in der Grundmenge\n",
    "    n = 5\n",
    "    # k = Anzahl der Ziehungen\n",
    "    k = 5\n",
    "    print(n ** k)\n",
    "\n",
    "# Variationen_mit()"
   ],
   "metadata": {
    "collapsed": false,
    "pycharm": {
     "name": "#%%\n"
    }
   }
  },
  {
   "cell_type": "code",
   "execution_count": null,
   "outputs": [],
   "source": [
    "def Variationen_ohne():\n",
    "    # Geordnete Stichprobe\n",
    "\n",
    "    # n = Anzahl Elemente in der Grundmenge\n",
    "    n = 4\n",
    "    # k = Anzahl der Ziehungen\n",
    "    k = 4\n",
    "    result = (math.factorial(n) / (math.factorial(k) * math.factorial(n - k))) * math.factorial(k)\n",
    "    print(result)\n",
    "\n",
    "# Variationen_ohne()"
   ],
   "metadata": {
    "collapsed": false,
    "pycharm": {
     "name": "#%%\n"
    }
   }
  },
  {
   "cell_type": "code",
   "execution_count": null,
   "outputs": [],
   "source": [
    "def Kombinationen_mit():\n",
    "    # Ungeordnete Stichprobe\n",
    "    # n = Anzahl Elemente in der Grundmenge\n",
    "    n = 5\n",
    "    # k = Anzahl der Ziehungen\n",
    "    k = 3\n",
    "    temp = n + k - 1\n",
    "    result = math.factorial(temp) / (math.factorial(k) * math.factorial(temp - k))\n",
    "    print(result)\n",
    "\n",
    "# Kombinationen_mit()"
   ],
   "metadata": {
    "collapsed": false,
    "pycharm": {
     "name": "#%%\n"
    }
   }
  },
  {
   "cell_type": "code",
   "execution_count": 1,
   "outputs": [
    {
     "name": "stdout",
     "output_type": "stream",
     "text": [
      "15504.0\n"
     ]
    }
   ],
   "source": [
    "def Kombinationen_ohne():\n",
    "    # Ungeordnete Stichprobe\n",
    "    # n = Anzahl Elemente in der Grundmenge\n",
    "    n = 20\n",
    "    # k = Anzahl der Ziehungen\n",
    "    k = 5\n",
    "    result = math.factorial(n) / (math.factorial(k) * math.factorial(n - k))\n",
    "    print(result)\n",
    "\n",
    "Kombinationen_ohne()"
   ],
   "metadata": {
    "collapsed": false,
    "pycharm": {
     "name": "#%%\n"
    }
   }
  },
  {
   "cell_type": "code",
   "execution_count": null,
   "outputs": [],
   "source": [
    "def Permutation_ohne():\n",
    "    import math\n",
    "    # n = Anzahl Elemente in der Grundmenge\n",
    "    n = 5\n",
    "    result = math.factorial(n)\n",
    "    print(result)\n",
    "\n",
    "# Permutation_ohne()"
   ],
   "metadata": {
    "collapsed": false,
    "pycharm": {
     "name": "#%%\n"
    }
   }
  }
 ],
 "metadata": {
  "kernelspec": {
   "display_name": "Python 3",
   "language": "python",
   "name": "python3"
  },
  "language_info": {
   "codemirror_mode": {
    "name": "ipython",
    "version": 2
   },
   "file_extension": ".py",
   "mimetype": "text/x-python",
   "name": "python",
   "nbconvert_exporter": "python",
   "pygments_lexer": "ipython2",
   "version": "2.7.6"
  }
 },
 "nbformat": 4,
 "nbformat_minor": 0
}